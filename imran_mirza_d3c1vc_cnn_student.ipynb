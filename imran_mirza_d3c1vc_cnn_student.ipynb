{
  "cells": [
    {
      "cell_type": "markdown",
      "metadata": {
        "id": "view-in-github",
        "colab_type": "text"
      },
      "source": [
        "<a href=\"https://colab.research.google.com/github/Imran123885/Harvard_AI_Bootcamp_Work/blob/main/imran_mirza_d3c1vc_cnn_student.ipynb\" target=\"_parent\"><img src=\"https://colab.research.google.com/assets/colab-badge.svg\" alt=\"Open In Colab\"/></a>"
      ]
    },
    {
      "cell_type": "markdown",
      "metadata": {
        "id": "vLjWPialMbBQ"
      },
      "source": [
        "#Harvard AI Bootcamp - Handwriting Classification with Convolutional Neural Networks"
      ]
    },
    {
      "cell_type": "markdown",
      "source": [
        "## Make a copy of this notebook! Editing directly will not be saved."
      ],
      "metadata": {
        "id": "rdR8-cp-9aGh"
      }
    },
    {
      "cell_type": "markdown",
      "metadata": {
        "id": "OPVZ2bsPMr78"
      },
      "source": [
        "##Introduction"
      ]
    },
    {
      "cell_type": "markdown",
      "metadata": {
        "id": "FRk_IUlKM3jV"
      },
      "source": [
        "Welcome to this interactive project on Handwriting Classification using Convolutional Neural Networks (CNNs). In this tutorial, we'll explore the powerful capabilities of CNNs in the context of recognizing handwritten digits."
      ]
    },
    {
      "cell_type": "markdown",
      "metadata": {
        "id": "qYlcmRW2NGm2"
      },
      "source": [
        "##Convolutional Neural Networks (CNNs)"
      ]
    },
    {
      "cell_type": "markdown",
      "metadata": {
        "id": "Ve58vdR-NLUJ"
      },
      "source": [
        "Convolutional Neural Networks have emerged as a cornerstone in computer vision, particularly excelling in tasks like image classification. Designed to simulate the visual processing of the human brain, CNNs have proven to be highly effective in discerning intricate patterns and features within images."
      ]
    },
    {
      "cell_type": "markdown",
      "metadata": {
        "id": "p55HjK9nNN7O"
      },
      "source": [
        "##Application: Handwriting Recognition"
      ]
    },
    {
      "cell_type": "markdown",
      "metadata": {
        "id": "2jgFQhj6NUpL"
      },
      "source": [
        "In this project, our focus is on a classic yet vital application—recognizing handwritten digits. We'll be working with the MNIST dataset, a benchmark dataset in the machine learning community. Despite its simplicity, MNIST remains a challenging problem due to the wide variability in individual handwriting styles."
      ]
    },
    {
      "cell_type": "markdown",
      "metadata": {
        "id": "9ink8r0fNW06"
      },
      "source": [
        "##Importance of CNNs in Image Classification"
      ]
    },
    {
      "cell_type": "markdown",
      "metadata": {
        "id": "FXdoC-coNZsS"
      },
      "source": [
        "Understanding CNNs is essential in numerous real-world applications, from digit recognition in postal services to automated form processing. By concentrating on the specific task of handwriting classification, we aim to showcase how CNNs can robustly handle diverse and intricate datasets, laying the foundation for broader applications in pattern recognition.\n",
        "\n",
        "Now, let's embark on the journey of setting up our project and constructing a CNN model to proficiently classify handwritten digits."
      ]
    },
    {
      "cell_type": "markdown",
      "metadata": {
        "id": "gZvQtavHNcXP"
      },
      "source": [
        "#Setup Section"
      ]
    },
    {
      "cell_type": "markdown",
      "metadata": {
        "id": "BGNcFDU1Nobo"
      },
      "source": [
        "In this tutorial, we will be using PyTorch to build a Convolutional Neural Network (CNN) for classifying handwritten digits from the MNIST dataset. Before we dive into the model building process, let's set up our environment by installing the required dependencies and importing the necessary libraries."
      ]
    },
    {
      "cell_type": "markdown",
      "metadata": {
        "id": "1Uq-CzswP2ce"
      },
      "source": [
        "##Why PyTorch?"
      ]
    },
    {
      "cell_type": "markdown",
      "metadata": {
        "id": "-WmpB0YcP5Z9"
      },
      "source": [
        "PyTorch is a popular open-source deep learning framework that provides a flexible and dynamic computational graph. It is widely used for building and training neural networks due to its ease of use, dynamic computation capabilities, and strong community support.\n"
      ]
    },
    {
      "cell_type": "markdown",
      "metadata": {
        "id": "IGYNN4wXP9EN"
      },
      "source": [
        "##Step 1: Install Dependencies"
      ]
    },
    {
      "cell_type": "markdown",
      "metadata": {
        "id": "j1sHkKrxP_3X"
      },
      "source": [
        "Let's start by installing the required dependencies. Google Colab comes pre-installed with many essential libraries, but we need to ensure that PyTorch is installed."
      ]
    },
    {
      "cell_type": "code",
      "execution_count": null,
      "metadata": {
        "colab": {
          "base_uri": "https://localhost:8080/"
        },
        "id": "CiUUdRsmQCff",
        "outputId": "fb439f2d-a8bd-4651-9fff-304e5cb933af"
      },
      "outputs": [
        {
          "output_type": "stream",
          "name": "stdout",
          "text": [
            "Requirement already satisfied: torch in /usr/local/lib/python3.10/dist-packages (2.1.0+cu121)\n",
            "Requirement already satisfied: torchvision in /usr/local/lib/python3.10/dist-packages (0.16.0+cu121)\n",
            "Requirement already satisfied: filelock in /usr/local/lib/python3.10/dist-packages (from torch) (3.13.1)\n",
            "Requirement already satisfied: typing-extensions in /usr/local/lib/python3.10/dist-packages (from torch) (4.5.0)\n",
            "Requirement already satisfied: sympy in /usr/local/lib/python3.10/dist-packages (from torch) (1.12)\n",
            "Requirement already satisfied: networkx in /usr/local/lib/python3.10/dist-packages (from torch) (3.2.1)\n",
            "Requirement already satisfied: jinja2 in /usr/local/lib/python3.10/dist-packages (from torch) (3.1.2)\n",
            "Requirement already satisfied: fsspec in /usr/local/lib/python3.10/dist-packages (from torch) (2023.6.0)\n",
            "Requirement already satisfied: triton==2.1.0 in /usr/local/lib/python3.10/dist-packages (from torch) (2.1.0)\n",
            "Requirement already satisfied: numpy in /usr/local/lib/python3.10/dist-packages (from torchvision) (1.23.5)\n",
            "Requirement already satisfied: requests in /usr/local/lib/python3.10/dist-packages (from torchvision) (2.31.0)\n",
            "Requirement already satisfied: pillow!=8.3.*,>=5.3.0 in /usr/local/lib/python3.10/dist-packages (from torchvision) (9.4.0)\n",
            "Requirement already satisfied: MarkupSafe>=2.0 in /usr/local/lib/python3.10/dist-packages (from jinja2->torch) (2.1.3)\n",
            "Requirement already satisfied: charset-normalizer<4,>=2 in /usr/local/lib/python3.10/dist-packages (from requests->torchvision) (3.3.2)\n",
            "Requirement already satisfied: idna<4,>=2.5 in /usr/local/lib/python3.10/dist-packages (from requests->torchvision) (3.6)\n",
            "Requirement already satisfied: urllib3<3,>=1.21.1 in /usr/local/lib/python3.10/dist-packages (from requests->torchvision) (2.0.7)\n",
            "Requirement already satisfied: certifi>=2017.4.17 in /usr/local/lib/python3.10/dist-packages (from requests->torchvision) (2023.11.17)\n",
            "Requirement already satisfied: mpmath>=0.19 in /usr/local/lib/python3.10/dist-packages (from sympy->torch) (1.3.0)\n"
          ]
        }
      ],
      "source": [
        "# Install PyTorch\n",
        "!pip install torch torchvision"
      ]
    },
    {
      "cell_type": "markdown",
      "metadata": {
        "id": "VK_z58CSQFl0"
      },
      "source": [
        "##Step 2: Import Libraries"
      ]
    },
    {
      "cell_type": "code",
      "execution_count": null,
      "metadata": {
        "id": "gZkMF6nEQLXk"
      },
      "outputs": [],
      "source": [
        "import torch\n",
        "import torch.nn as nn\n",
        "import torch.optim as optim\n",
        "import torchvision\n",
        "from torchvision import datasets, transforms\n",
        "import torch.nn.functional as F"
      ]
    },
    {
      "cell_type": "code",
      "source": [
        "device = torch.device('cuda')\n",
        "device"
      ],
      "metadata": {
        "colab": {
          "base_uri": "https://localhost:8080/"
        },
        "id": "E1zQX2uhZ-gc",
        "outputId": "629a4ac7-b115-41d2-e078-5e864dda8cda"
      },
      "execution_count": null,
      "outputs": [
        {
          "output_type": "execute_result",
          "data": {
            "text/plain": [
              "device(type='cuda')"
            ]
          },
          "metadata": {},
          "execution_count": 5
        }
      ]
    },
    {
      "cell_type": "markdown",
      "metadata": {
        "id": "8C2ygRjhQQwa"
      },
      "source": [
        "\n",
        "\n",
        "*   **'torch'**: The core PyTorch library.\n",
        "*   **'torch.nn'**: PyTorch's module for defining neural network architectures.  \n",
        "*   **'torch.optim'**: PyTorch's module for optimization algorithms.\n",
        "*   **'torchvision'**: PyTorch's library for computer vision tasks.\n",
        "*   **'datasets'**: Provides pre-loaded datasets, including MNIST.\n",
        "*   **'transforms'**: Allows us to define image transformations, such as normalization and resizing.\n",
        "*   **'torch.nn.functional'**: module that provides a collection of functions that operate on tensors and are commonly used in neural network operations. These functions include various activation functions, loss functions, and other operations that are applied element-wise to tensors.\n",
        "\n"
      ]
    },
    {
      "cell_type": "markdown",
      "metadata": {
        "id": "dvmihCOQSrNU"
      },
      "source": [
        "##Step 3: Data Preprocessing with Transforms"
      ]
    },
    {
      "cell_type": "markdown",
      "metadata": {
        "id": "ANwk2jlSStrL"
      },
      "source": [
        "MNIST dataset contains grayscale images of handwritten digits. We will use transformations to preprocess the data."
      ]
    },
    {
      "cell_type": "code",
      "execution_count": null,
      "metadata": {
        "id": "-3tX06TPSvd3"
      },
      "outputs": [],
      "source": [
        "# Define data transforms\n",
        "import pandas as pd\n",
        "# TODO: convert images to PyTorch tensors and normalize pixel values to the range [-1, 1]\n",
        "\n",
        "transform = transforms.Compose([\n",
        "      transforms.ToTensor(), # Convert images to pytorch tensors\n",
        "      transforms.Normalize(mean=0.5, std=0.5) # Normalize the tensors to scale them\n",
        "])"
      ]
    },
    {
      "cell_type": "markdown",
      "metadata": {
        "id": "gNl2X1auTCo_"
      },
      "source": [
        "\n",
        "\n",
        "*   **'ToTensor()'**: Converts images to PyTorch tensors.  \n",
        "*   **'Normalize()'**: Normalizes pixel values to have a mean of 0.5 and a standard deviation of 0.5.\n",
        "\n"
      ]
    },
    {
      "cell_type": "markdown",
      "metadata": {
        "id": "eZyj0kycTSbH"
      },
      "source": [
        "##Step 4: Download and Load MNIST Dataset"
      ]
    },
    {
      "cell_type": "markdown",
      "metadata": {
        "id": "NGsu6Q8mTWMU"
      },
      "source": [
        "Let's download the MNIST dataset and apply the defined transforms:"
      ]
    },
    {
      "cell_type": "code",
      "execution_count": null,
      "metadata": {
        "id": "_dvj55zcTYzm",
        "colab": {
          "base_uri": "https://localhost:8080/"
        },
        "outputId": "a823da63-f7c5-4fe9-d83d-0e8bf16f8552"
      },
      "outputs": [
        {
          "output_type": "stream",
          "name": "stdout",
          "text": [
            "Downloading http://yann.lecun.com/exdb/mnist/train-images-idx3-ubyte.gz\n",
            "Downloading http://yann.lecun.com/exdb/mnist/train-images-idx3-ubyte.gz to ./data/MNIST/raw/train-images-idx3-ubyte.gz\n"
          ]
        },
        {
          "output_type": "stream",
          "name": "stderr",
          "text": [
            "100%|██████████| 9912422/9912422 [00:00<00:00, 132045490.98it/s]"
          ]
        },
        {
          "output_type": "stream",
          "name": "stdout",
          "text": [
            "Extracting ./data/MNIST/raw/train-images-idx3-ubyte.gz to ./data/MNIST/raw\n"
          ]
        },
        {
          "output_type": "stream",
          "name": "stderr",
          "text": [
            "\n"
          ]
        },
        {
          "output_type": "stream",
          "name": "stdout",
          "text": [
            "\n",
            "Downloading http://yann.lecun.com/exdb/mnist/train-labels-idx1-ubyte.gz\n",
            "Downloading http://yann.lecun.com/exdb/mnist/train-labels-idx1-ubyte.gz to ./data/MNIST/raw/train-labels-idx1-ubyte.gz\n"
          ]
        },
        {
          "output_type": "stream",
          "name": "stderr",
          "text": [
            "100%|██████████| 28881/28881 [00:00<00:00, 27431090.09it/s]"
          ]
        },
        {
          "output_type": "stream",
          "name": "stdout",
          "text": [
            "Extracting ./data/MNIST/raw/train-labels-idx1-ubyte.gz to ./data/MNIST/raw\n",
            "\n",
            "Downloading http://yann.lecun.com/exdb/mnist/t10k-images-idx3-ubyte.gz\n",
            "Downloading http://yann.lecun.com/exdb/mnist/t10k-images-idx3-ubyte.gz to ./data/MNIST/raw/t10k-images-idx3-ubyte.gz\n"
          ]
        },
        {
          "output_type": "stream",
          "name": "stderr",
          "text": [
            "\n",
            "100%|██████████| 1648877/1648877 [00:00<00:00, 55115487.70it/s]\n"
          ]
        },
        {
          "output_type": "stream",
          "name": "stdout",
          "text": [
            "Extracting ./data/MNIST/raw/t10k-images-idx3-ubyte.gz to ./data/MNIST/raw\n",
            "\n",
            "Downloading http://yann.lecun.com/exdb/mnist/t10k-labels-idx1-ubyte.gz\n",
            "Downloading http://yann.lecun.com/exdb/mnist/t10k-labels-idx1-ubyte.gz to ./data/MNIST/raw/t10k-labels-idx1-ubyte.gz\n"
          ]
        },
        {
          "output_type": "stream",
          "name": "stderr",
          "text": [
            "100%|██████████| 4542/4542 [00:00<00:00, 10726649.08it/s]\n"
          ]
        },
        {
          "output_type": "stream",
          "name": "stdout",
          "text": [
            "Extracting ./data/MNIST/raw/t10k-labels-idx1-ubyte.gz to ./data/MNIST/raw\n",
            "\n"
          ]
        }
      ],
      "source": [
        "# Download and load training set\n",
        "train_dataset = datasets.MNIST(root='./data', train=True, transform=transform, download=True)\n",
        "\n",
        "# Download and load test set\n",
        "test_dataset = datasets.MNIST(root='./data', train=False, transform=transform, download=True)"
      ]
    },
    {
      "cell_type": "markdown",
      "metadata": {
        "id": "L_RwPAlOTlEP"
      },
      "source": [
        "\n",
        "\n",
        "*   **'datasets.MNIST'**: Loads the MNIST dataset.\n",
        "*   **'root'**: Specifies the directory to save the dataset.\n",
        "*   **'train=True'**: Loads the training set.\n",
        "\n"
      ]
    },
    {
      "cell_type": "code",
      "source": [
        "train_dataset"
      ],
      "metadata": {
        "colab": {
          "base_uri": "https://localhost:8080/"
        },
        "id": "9wVaoqcJbH9L",
        "outputId": "8ad67501-72ab-4db7-ae74-48d2d636a1e0"
      },
      "execution_count": null,
      "outputs": [
        {
          "output_type": "execute_result",
          "data": {
            "text/plain": [
              "Dataset MNIST\n",
              "    Number of datapoints: 60000\n",
              "    Root location: ./data\n",
              "    Split: Train\n",
              "    StandardTransform\n",
              "Transform: Compose(\n",
              "               ToTensor()\n",
              "               Normalize(mean=0.5, std=0.5)\n",
              "           )"
            ]
          },
          "metadata": {},
          "execution_count": 8
        }
      ]
    },
    {
      "cell_type": "markdown",
      "metadata": {
        "id": "9y8V1X2JUMWv"
      },
      "source": [
        "##Setup Section Conclusion\n"
      ]
    },
    {
      "cell_type": "markdown",
      "metadata": {
        "id": "fAm9u-stUPe7"
      },
      "source": [
        "With these setup steps, we have created an environment ready for building our CNN for handwritten digit classification using PyTorch. In the upcoming sections, we will delve into constructing the neural network architecture, training the model, and evaluating its performance.\n",
        "\n",
        "Let's proceed to the next section and start building our CNN!"
      ]
    },
    {
      "cell_type": "markdown",
      "metadata": {
        "id": "WRSvQvfPU0gW"
      },
      "source": [
        "#Building the CNN Classifier"
      ]
    },
    {
      "cell_type": "markdown",
      "metadata": {
        "id": "1VTLTtlCU3Am"
      },
      "source": [
        "Now that we have set up our environment and loaded the MNIST dataset, let's move on to building the Convolutional Neural Network (CNN) for classifying handwritten digits."
      ]
    },
    {
      "cell_type": "markdown",
      "metadata": {
        "id": "zpP0m3liUuW-"
      },
      "source": [
        "##Step 5: Define the CNN Architecture"
      ]
    },
    {
      "cell_type": "markdown",
      "metadata": {
        "id": "zMwKloG4U56P"
      },
      "source": [
        "We will create a simple CNN architecture for this task. In this example, we'll use two convolutional layers followed by max-pooling, and then two fully connected (linear) layers."
      ]
    },
    {
      "cell_type": "code",
      "execution_count": null,
      "metadata": {
        "id": "ZgXCmqGGU8Qb"
      },
      "outputs": [],
      "source": [
        "class CNNClassifier(nn.Module):\n",
        "    def __init__(self):\n",
        "        super(CNNClassifier, self).__init__()\n",
        "        self.conv1 = nn.Conv2d(1, 32, kernel_size=3, padding=1)\n",
        "        # TODO: similarly create another convolutional layer\n",
        "        self.conv2 = nn.Conv2d(32, 64, kernel_size=3, padding=1) # Output of precvious layer is 32, input for next layer is 64\n",
        "\n",
        "        self.pool = nn.MaxPool2d(kernel_size=2, stride=2)\n",
        "        self.fc1 = nn.Linear(64 * 7 * 7, 128)\n",
        "        self.fc2 = nn.Linear(128, 10)\n",
        "        # TODO: similarly create another fully connected layer\n",
        "\n",
        "    def forward(self, x):\n",
        "        x = self.pool(F.relu(self.conv1(x)))\n",
        "        x = self.pool(F.relu(self.conv2(x)))\n",
        "        x = x.view(-1, 64 * 7 * 7)\n",
        "        x = F.relu(self.fc1(x))\n",
        "        x = self.fc2(x)\n",
        "        return x\n"
      ]
    },
    {
      "cell_type": "markdown",
      "metadata": {
        "id": "PBKIWBKKU-2V"
      },
      "source": [
        "This architecture consists of two convolutional layers, each followed by max-pooling, and two fully connected layers. The forward method defines the forward pass of the network."
      ]
    },
    {
      "cell_type": "markdown",
      "metadata": {
        "id": "bB8rOLqzVCj1"
      },
      "source": [
        "##Step 6: Instantiate the Model and Define Loss Function & Optimizer"
      ]
    },
    {
      "cell_type": "markdown",
      "metadata": {
        "id": "xdJmEpeRVFvz"
      },
      "source": [
        "Now, let's instantiate the CNN model and define the loss ffunction and optimizer."
      ]
    },
    {
      "cell_type": "code",
      "execution_count": null,
      "metadata": {
        "id": "lkiZCQXtVJb5"
      },
      "outputs": [],
      "source": [
        "# Instantiate the model\n",
        "model = CNNClassifier()\n",
        "\n",
        "# Define Cross Entropy loss function\n",
        "# TODO: Define an Adam optimizer and specify the learning rate\n",
        "criterion = nn.CrossEntropyLoss()\n",
        "optimizer = optim.Adam(model.parameters(), lr= 0.001)"
      ]
    },
    {
      "cell_type": "markdown",
      "metadata": {
        "id": "hGbud00lVLsr"
      },
      "source": [
        "\n",
        "\n",
        "*   **'nn.CrossEntropyLoss()'**: This is a commonly used loss function for classification problems.\n",
        "*   **'optim.Adam()'**: We use the Adam optimizer for updating the model parameters during training.\n",
        "\n"
      ]
    },
    {
      "cell_type": "markdown",
      "metadata": {
        "id": "mkS62Ge0VYOl"
      },
      "source": [
        "##Step 7: Training the Model"
      ]
    },
    {
      "cell_type": "markdown",
      "metadata": {
        "id": "f_0h7CbhVaSr"
      },
      "source": [
        "Let's train the model using the training dataset we loaded earlier."
      ]
    },
    {
      "cell_type": "code",
      "execution_count": null,
      "metadata": {
        "colab": {
          "base_uri": "https://localhost:8080/"
        },
        "id": "1kgUFvTPVc5V",
        "outputId": "fdef1f86-cba5-4449-e33c-e48c2eb6b7d8"
      },
      "outputs": [
        {
          "output_type": "stream",
          "name": "stdout",
          "text": [
            "Epoch [1/5], Loss: 0.1619, Accuracy: 95.05%\n",
            "Epoch [2/5], Loss: 0.0463, Accuracy: 98.58%\n",
            "Epoch [3/5], Loss: 0.0325, Accuracy: 98.99%\n",
            "Epoch [4/5], Loss: 0.0237, Accuracy: 99.25%\n",
            "Epoch [5/5], Loss: 0.0193, Accuracy: 99.38%\n"
          ]
        }
      ],
      "source": [
        "# Defne batch size for tarining\n",
        "batch_size = 64\n",
        "\n",
        "# Create data loaders\n",
        "train_loader = torch.utils.data.DataLoader(dataset=train_dataset, batch_size=batch_size, shuffle=True)\n",
        "test_loader = torch.utils.data.DataLoader(dataset=test_dataset, batch_size=batch_size, shuffle=False)\n",
        "\n",
        "# Set the number of epochs\n",
        "num_epochs = 5\n",
        "\n",
        "# Training loop\n",
        "for epoch in range(num_epochs):\n",
        "    # TODO: set the model to training model\n",
        "    model.train()\n",
        "    running_loss = 0.0\n",
        "    correct_train, total_train = 0, 0\n",
        "\n",
        "    for images, labels in train_loader:\n",
        "        # TODO: Zero the gradients\n",
        "        optimizer.zero_grad()\n",
        "        # TODO: Forward pass\n",
        "        outputs = model(images)\n",
        "        # TODO: Calculate the loss\n",
        "        loss = criterion(outputs, labels)\n",
        "        # TODO: Backward pass\n",
        "        loss.backward()\n",
        "        # TODO: Update weights\n",
        "        optimizer.step()\n",
        "\n",
        "        running_loss += loss.item()\n",
        "\n",
        "        # Calculate training accuracy\n",
        "        _, predicted = torch.max(outputs.data, 1)\n",
        "        total_train += labels.size(0)\n",
        "        correct_train += (predicted == labels).sum().item()\n",
        "\n",
        "    epoch_loss = running_loss / len(train_loader)\n",
        "    accuracy_train = correct_train / total_train\n",
        "\n",
        "    print(f'Epoch [{epoch + 1}/{num_epochs}], Loss: {epoch_loss:.4f}, Accuracy: {accuracy_train * 100:.2f}%')\n"
      ]
    },
    {
      "cell_type": "markdown",
      "metadata": {
        "id": "5moPWBzvVeln"
      },
      "source": [
        "*   **'optimizer.zero_grad()'**: Clears the gradients of all optimized tensors.\n",
        "*   **'outputs = model(images)'**: Performs a forward pass to obtain model predictions.\n",
        "*   **criterion(outputs, labels)'**: Computes the loss between the predicted and true labels.\n",
        "*   **'loss.backward()'**: Computes the gradients with respect to the loss.\n",
        "*   **'optimizer.step()'**: Updates the model parameters based on the computed gradients."
      ]
    },
    {
      "cell_type": "markdown",
      "metadata": {
        "id": "iF8XYHm9WBRO"
      },
      "source": [
        "##Step 8: Evaluate the Model"
      ]
    },
    {
      "cell_type": "markdown",
      "metadata": {
        "id": "nLttrIBQWDdB"
      },
      "source": [
        "After training, let's evaluate the model on the test set to assess it's performance. One popular visualzation of a model's performance is a confusion matrix. To do this, we'll need to use the **'sklearn.metrics'** module, which provides convenient functions for calculating and displaying various metrics.\n",
        "\n",
        "First make sure to install scikit-learn if you haven't already:"
      ]
    },
    {
      "cell_type": "code",
      "execution_count": null,
      "metadata": {
        "colab": {
          "base_uri": "https://localhost:8080/"
        },
        "id": "MYvDcNtbbO-2",
        "outputId": "986897ab-0240-47a3-a55f-f1f2fbf09d68"
      },
      "outputs": [
        {
          "output_type": "stream",
          "name": "stdout",
          "text": [
            "Requirement already satisfied: scikit-learn in /usr/local/lib/python3.10/dist-packages (1.2.2)\n",
            "Requirement already satisfied: numpy>=1.17.3 in /usr/local/lib/python3.10/dist-packages (from scikit-learn) (1.23.5)\n",
            "Requirement already satisfied: scipy>=1.3.2 in /usr/local/lib/python3.10/dist-packages (from scikit-learn) (1.11.4)\n",
            "Requirement already satisfied: joblib>=1.1.1 in /usr/local/lib/python3.10/dist-packages (from scikit-learn) (1.3.2)\n",
            "Requirement already satisfied: threadpoolctl>=2.0.0 in /usr/local/lib/python3.10/dist-packages (from scikit-learn) (3.2.0)\n"
          ]
        }
      ],
      "source": [
        "!pip install scikit-learn"
      ]
    },
    {
      "cell_type": "markdown",
      "metadata": {
        "id": "N-U-x2YabQ9N"
      },
      "source": [
        "Now let's modify the import statements to include the calculation and printing of the confusion matrix and classificaiton report:"
      ]
    },
    {
      "cell_type": "code",
      "execution_count": null,
      "metadata": {
        "id": "jLlSld5sbUuh"
      },
      "outputs": [],
      "source": [
        "from sklearn.metrics import confusion_matrix, classification_report"
      ]
    },
    {
      "cell_type": "code",
      "execution_count": null,
      "metadata": {
        "colab": {
          "base_uri": "https://localhost:8080/"
        },
        "id": "6WBzhab7WHct",
        "outputId": "d3005f5c-8e37-4365-8850-10cc49d9cf87"
      },
      "outputs": [
        {
          "output_type": "stream",
          "name": "stdout",
          "text": [
            "Test Accuracy: 99.27%\n",
            "\n",
            "Confusion Matrix:\n",
            "[[ 974    0    0    1    0    1    1    2    1    0]\n",
            " [   0 1133    1    0    0    0    0    1    0    0]\n",
            " [   0    3 1019    1    1    0    1    5    2    0]\n",
            " [   0    0    0 1005    0    4    0    0    1    0]\n",
            " [   0    0    0    0  977    0    0    0    0    5]\n",
            " [   0    0    0    2    0  888    2    0    0    0]\n",
            " [   2    2    0    0    1    1  950    0    2    0]\n",
            " [   0    1    2    0    0    0    0 1019    1    5]\n",
            " [   1    0    1    2    0    0    0    0  968    2]\n",
            " [   0    0    0    0    6    3    0    4    2  994]]\n"
          ]
        }
      ],
      "source": [
        "# Evaluation on the test set\n",
        "model.eval()  # Set the model to evaluation mode\n",
        "correct_test, total_test = 0, 0\n",
        "all_predicted, all_labels = [], []\n",
        "\n",
        "with torch.no_grad():\n",
        "    for images, labels in test_loader:\n",
        "        outputs = model(images)\n",
        "        _, predicted = torch.max(outputs.data, 1)\n",
        "        total_test += labels.size(0)\n",
        "        correct_test += (predicted == labels).sum().item()\n",
        "\n",
        "        # Collect predictions and true labels for later analysis\n",
        "        all_predicted.extend(predicted.cpu().numpy())\n",
        "        all_labels.extend(labels.cpu().numpy())\n",
        "# TODO: calculate accuracy_test\n",
        "accuracy_test = correct_test/total_test\n",
        "\n",
        "# Print test accuracy\n",
        "print(f'Test Accuracy: {accuracy_test * 100:.2f}%')\n",
        "\n",
        "# Calculate and print confusion matrix\n",
        "conf_matrix = confusion_matrix(all_labels, all_predicted)\n",
        "print('\\nConfusion Matrix:')\n",
        "print(conf_matrix)\n",
        "\n",
        "# Calculate and print classification report\n",
        "class_report = classification_report(all_labels, all_predicted)"
      ]
    },
    {
      "cell_type": "markdown",
      "metadata": {
        "id": "_6JPsSYaWJHe"
      },
      "source": [
        "This code snippet sets the model to evaluation mode, runs the test data through the trained model, and calculates the accuracy."
      ]
    },
    {
      "cell_type": "code",
      "source": [
        "class_report"
      ],
      "metadata": {
        "colab": {
          "base_uri": "https://localhost:8080/",
          "height": 90
        },
        "id": "-WR-7m2FjCq7",
        "outputId": "e182f823-abf6-46ff-d31e-73659a801b96"
      },
      "execution_count": null,
      "outputs": [
        {
          "output_type": "execute_result",
          "data": {
            "text/plain": [
              "'              precision    recall  f1-score   support\\n\\n           0       1.00      0.99      1.00       980\\n           1       0.99      1.00      1.00      1135\\n           2       1.00      0.99      0.99      1032\\n           3       0.99      1.00      0.99      1010\\n           4       0.99      0.99      0.99       982\\n           5       0.99      1.00      0.99       892\\n           6       1.00      0.99      0.99       958\\n           7       0.99      0.99      0.99      1028\\n           8       0.99      0.99      0.99       974\\n           9       0.99      0.99      0.99      1009\\n\\n    accuracy                           0.99     10000\\n   macro avg       0.99      0.99      0.99     10000\\nweighted avg       0.99      0.99      0.99     10000\\n'"
            ],
            "application/vnd.google.colaboratory.intrinsic+json": {
              "type": "string"
            }
          },
          "metadata": {},
          "execution_count": 20
        }
      ]
    },
    {
      "cell_type": "markdown",
      "metadata": {
        "id": "4xxlesHAWvXx"
      },
      "source": [
        "##Step 9: Visualize the Results of our Model"
      ]
    },
    {
      "cell_type": "code",
      "execution_count": null,
      "metadata": {
        "colab": {
          "base_uri": "https://localhost:8080/",
          "height": 711
        },
        "id": "4ch-vsRlY_3p",
        "outputId": "c64fe64d-7a15-421f-b311-f2736c205db3"
      },
      "outputs": [
        {
          "output_type": "display_data",
          "data": {
            "text/plain": [
              "<Figure size 640x480 with 5 Axes>"
            ],
            "image/png": "[encoded data removed]"
          },
          "metadata": {}
        },
        {
          "output_type": "stream",
          "name": "stdout",
          "text": [
            "Epoch [1/5], Loss: 0.0146\n",
            "Epoch [2/5], Loss: 0.0114\n",
            "Epoch [3/5], Loss: 0.0092\n",
            "Epoch [4/5], Loss: 0.0088\n",
            "Epoch [5/5], Loss: 0.0064\n"
          ]
        },
        {
          "output_type": "display_data",
          "data": {
            "text/plain": [
              "<Figure size 640x480 with 1 Axes>"
            ],
            "image/png": "[encoded data removed]"
          },
          "metadata": {}
        }
      ],
      "source": [
        "import matplotlib.pyplot as plt\n",
        "import numpy as np\n",
        "\n",
        "# Function to visualize test images and predictions\n",
        "def visualize_results(model, test_loader, num_images=5):\n",
        "    model.eval()\n",
        "    with torch.no_grad():\n",
        "        for i, (images, labels) in enumerate(test_loader):\n",
        "            if i >= num_images:\n",
        "                break\n",
        "\n",
        "            outputs = model(images)\n",
        "            _, predicted = torch.max(outputs, 1)\n",
        "\n",
        "            # Convert the image tensor to a NumPy array\n",
        "            image = images[0][0].squeeze().cpu().numpy()\n",
        "\n",
        "            # Visualize the test images and their predictions\n",
        "            plt.subplot(1, num_images, i + 1)\n",
        "            plt.imshow(image, cmap='gray')  # Use the NumPy array for imshow\n",
        "            plt.title(f'Predicted: {predicted[0]}\\nActual: {labels[0]}')\n",
        "            plt.axis('off')\n",
        "\n",
        "    plt.show()\n",
        "\n",
        "# Visualize test images and predictions\n",
        "visualize_results(model, test_loader)\n",
        "\n",
        "# Function to plot the training loss over epochs\n",
        "def plot_loss(loss_values):\n",
        "    plt.plot(loss_values, label='Training Loss')\n",
        "    plt.xlabel('Epoch')\n",
        "    plt.ylabel('Loss')\n",
        "    plt.title('Training Loss Over Epochs')\n",
        "    plt.legend()\n",
        "    plt.show()\n",
        "\n",
        "# Training loop with loss tracking\n",
        "loss_values = []\n",
        "\n",
        "for epoch in range(num_epochs):\n",
        "    running_loss = 0.0\n",
        "    for images, labels in train_loader:\n",
        "        optimizer.zero_grad()\n",
        "        outputs = model(images)\n",
        "        loss = criterion(outputs, labels)\n",
        "        loss.backward()\n",
        "        optimizer.step()\n",
        "        running_loss += loss.item()\n",
        "\n",
        "    epoch_loss = running_loss / len(train_loader)\n",
        "    loss_values.append(epoch_loss)\n",
        "    print(f'Epoch [{epoch + 1}/{num_epochs}], Loss: {epoch_loss:.4f}')\n",
        "\n",
        "# Visualize the training loss over epochs\n",
        "plot_loss(loss_values)"
      ]
    },
    {
      "cell_type": "markdown",
      "metadata": {
        "id": "yqy-bLAPZBva"
      },
      "source": [
        "*   **'visualize_results'**: This function takes the trained model and a test data loader as input and visualizes a specified number of test images along with their predicted and actual labels.\n",
        "*   **'plot_loss'**: This function takes a list of training loss values over epochs and plots a graph to visualize the training loss trend."
      ]
    },
    {
      "cell_type": "markdown",
      "metadata": {
        "id": "bkT3AlTweA5F"
      },
      "source": [
        "#Let's Upgrade Our CNN!"
      ]
    },
    {
      "cell_type": "markdown",
      "metadata": {
        "id": "wKE_C_k5eHS1"
      },
      "source": [
        "There are several next steps we can take to bring our current CNN to the next level. Two of the most common next steps are updating the CNN architecture and data augmentation. We will be implementing both in the next few steps."
      ]
    },
    {
      "cell_type": "markdown",
      "metadata": {
        "id": "ef9i99_DeWYK"
      },
      "source": [
        "##Step 10: Update CNN Architecture"
      ]
    },
    {
      "cell_type": "code",
      "execution_count": null,
      "metadata": {
        "id": "4o4Zbp3XecOO"
      },
      "outputs": [],
      "source": [
        "# Define the advanced CNN architecture\n",
        "class AdvancedCNNClassifier(nn.Module):\n",
        "    def __init__(self):\n",
        "        super(AdvancedCNNClassifier, self).__init__()\n",
        "        self.conv1 = nn.Conv2d(1, 32, kernel_size=3, padding=1)\n",
        "        self.conv2 = nn.Conv2d(32, 64, kernel_size=3, padding=1)\n",
        "        self.conv3 = nn.Conv2d(64, 128, kernel_size=3, padding=1)\n",
        "        self.pool = nn.MaxPool2d(kernel_size=2, stride=2)\n",
        "\n",
        "        # Calculate the size dynamically based on the input size to the linear layer\n",
        "        dummy_input = torch.randn(1, 1, 28, 28)\n",
        "        self.calculate_conv_output_size(dummy_input)\n",
        "\n",
        "        self.fc1 = nn.Linear(self.conv_output_size, 256)\n",
        "        self.fc2 = nn.Linear(256, 10)\n",
        "\n",
        "    def calculate_conv_output_size(self, x):\n",
        "        x = self.pool(F.relu(self.conv1(x)))\n",
        "        x = self.pool(F.relu(self.conv2(x)))\n",
        "        x = self.pool(F.relu(self.conv3(x)))\n",
        "        x = x.view(x.size(0), -1)\n",
        "        self.conv_output_size = x.size(1)\n",
        "\n",
        "    def forward(self, x):\n",
        "        x = self.pool(F.relu(self.conv1(x)))\n",
        "        x = self.pool(F.relu(self.conv2(x)))\n",
        "        x = self.pool(F.relu(self.conv3(x)))\n",
        "\n",
        "        x = x.view(x.size(0), -1)\n",
        "        x = F.relu(self.fc1(x))\n",
        "        x = self.fc2(x)\n",
        "        return x\n",
        "\n"
      ]
    },
    {
      "cell_type": "markdown",
      "metadata": {
        "id": "YIJmeK-cef5a"
      },
      "source": [
        "We've defined a new CNN architcture named **'AdvancedCNNClassifier'** with three convolutional layers('conv1', 'conv2', 'conv3'), max-pooling layers('pool'), and wo fully connected layers ('fc1', 'fc2').\n",
        "\n",
        "\n",
        "The architecture is more complex than the previous CNN, with additional convolutional and fully connected layers.\n",
        "\n",
        "\n",
        "In this step we've also introduced a method 'calculate_conv_output_size' that takes. adummy input and calculates the size after the last pooling layer. This size is then used to dynamically set the input size of the first linear layer('fc1'). Please try this modification and see if it resolves the issue."
      ]
    },
    {
      "cell_type": "markdown",
      "metadata": {
        "id": "afPDNpvihc66"
      },
      "source": [
        "To provide some general foundational reasoning for updates in CNN architecture:\n",
        "\n",
        "1. Increased Model Capacity: The original CNN architecture might not have enough capacity to capture intricate patterns in the data. By introducing more convolutional layers and parameters, the model becomes more expressive and can potentially learn more complex features.\n",
        "2. Hierarchical Feature Extraction: Deepening the architecture allows the network to perform hierarchical feature extraction. Each layer can learn and represent different levels of abstraction, enabling the model to understand more intricate structures in the input data.\n",
        "3. Representation Power: The deeper architecture provides the model with a higher capacity to represent both low-level and high-level features in the data. This can be particularly beneficial for image classification tasks where features are hierarchical."
      ]
    },
    {
      "cell_type": "markdown",
      "metadata": {
        "id": "XUgKYOOZe2z0"
      },
      "source": [
        "##Step 11: Data Augmentaiton\n"
      ]
    },
    {
      "cell_type": "code",
      "execution_count": null,
      "metadata": {
        "id": "g9hguoOZe58k"
      },
      "outputs": [],
      "source": [
        "# Define data transforms for training with data augmentation\n",
        "transform_with_augmentation = transforms.Compose([\n",
        "    transforms.RandomRotation(10),\n",
        "    transforms.RandomResizedCrop(28, scale=(0.8, 1.0)),\n",
        "    transforms.RandomHorizontalFlip(),\n",
        "    transforms.ToTensor(),\n",
        "    transforms.Normalize((0.5,), (0.5,))\n",
        "])\n",
        "\n",
        "# Download and load the training set with data augmentation\n",
        "train_dataset_with_augmentation = datasets.MNIST(\n",
        "    root='./data',\n",
        "    train=True,\n",
        "    transform=transform_with_augmentation,\n",
        "    download=True\n",
        ")\n",
        "\n",
        "# Create a data loader for the augmented training set\n",
        "train_loader_with_augmentation = torch.utils.data.DataLoader(\n",
        "    dataset=train_dataset_with_augmentation,\n",
        "    batch_size=64,\n",
        "    shuffle=True\n",
        ")\n"
      ]
    },
    {
      "cell_type": "markdown",
      "metadata": {
        "id": "3PjTyKUdfJNL"
      },
      "source": [
        "We've defined a new set of data transformation('transform_with_augmentation') for training with data augmentation.\n",
        "\n",
        "The transformations include random rotation, random resized crop, and random horizontal flip, augmenting the training images.\n",
        "\n",
        "We've created a new training dataste('train_dataset_with_augmentation') with the specified augmentations.\n",
        "\n",
        "Finally, a new data loader ('train_loader_with_augmentation') is created for the augmented training dataset."
      ]
    },
    {
      "cell_type": "markdown",
      "metadata": {
        "id": "nQ8VPCc_iCWL"
      },
      "source": [
        "To provide some foundational reasoning for why one might want to perform data augmentation:\n",
        "1. Increased Robustness: Data augmentation introduces diversity into the training set by applying random transformations to the images. This helps the model become more robust and less sensitive to variations in the input data.\n",
        "2. Improved Generalization: Augmenting the training data with variations like rotation, scaling, and flipping exposes the model to a broader range of scenarios. This aids in improving the model's ability to generalize well to unseen data.\n",
        "3. Mitigation of Overfitting: Data augmentation acts as a form of regularization by artificially expanding the dataset. This can be particularly helpful in mitigating overfitting, where the model memorizes the training set instead of learning generalizable patterns.\n",
        "4. Realistic Input Variations: By simulating realistic variations that the model might encounter in real-world scenarios, data augmentation helps the model become more adaptive and capable of handling diverse inputs.\n",
        "5. Reudced Dependency on Large Datasets: In scenarios where collecting a large labeled dataset is challenging, data augmentation provides a way to artificially increase the effective size of the training set. This is especially useful for small to moderately sized datasets.\n"
      ]
    },
    {
      "cell_type": "markdown",
      "metadata": {
        "id": "SQLZ69CUfz_c"
      },
      "source": [
        "## Step 12: Run Training Loop Again"
      ]
    },
    {
      "cell_type": "code",
      "execution_count": null,
      "metadata": {
        "id": "jqY21Ppff3ia",
        "colab": {
          "base_uri": "https://localhost:8080/"
        },
        "outputId": "405990b9-7786-4091-ae1a-c08429949465"
      },
      "outputs": [
        {
          "output_type": "stream",
          "name": "stdout",
          "text": [
            "Epoch [1/5], Loss: 0.3529, Accuracy: 88.53\n",
            "Epoch [2/5], Loss: 0.1185, Accuracy: 96.31\n",
            "Epoch [3/5], Loss: 0.0915, Accuracy: 97.12\n",
            "Epoch [4/5], Loss: 0.0806, Accuracy: 97.49\n",
            "Epoch [5/5], Loss: 0.0726, Accuracy: 97.71\n"
          ]
        }
      ],
      "source": [
        "# Instantiate the advanced CNN model\n",
        "advanced_model = AdvancedCNNClassifier()\n",
        "\n",
        "# Define loss function and optimizer\n",
        "criterion = nn.CrossEntropyLoss()\n",
        "optimizer = optim.Adam(advanced_model.parameters(), lr=0.001)\n",
        "\n",
        "# Training loop with data augmentation\n",
        "num_epochs = 5\n",
        "\n",
        "for epoch in range(num_epochs):\n",
        "    advanced_model.train()\n",
        "    running_loss = 0.0\n",
        "    correct_train, total_train = 0, 0\n",
        "\n",
        "    for images, labels in train_loader_with_augmentation:\n",
        "        optimizer.zero_grad()\n",
        "        outputs = advanced_model(images)\n",
        "        loss = criterion(outputs, labels)\n",
        "        loss.backward()\n",
        "        optimizer.step()\n",
        "\n",
        "        running_loss += loss.item()\n",
        "\n",
        "        _, predicted = torch.max(outputs.data, 1)\n",
        "        total_train += labels.size(0)\n",
        "        correct_train += (predicted == labels).sum().item()\n",
        "\n",
        "    epoch_loss = running_loss / len(train_loader_with_augmentation)\n",
        "    accuracy_train = correct_train / total_train\n",
        "\n",
        "    print(f'Epoch [{epoch + 1}/{num_epochs}], Loss: {epoch_loss:.4f}, Accuracy: {accuracy_train * 100:.2f}')\n"
      ]
    },
    {
      "cell_type": "markdown",
      "metadata": {
        "id": "FtlSpaZwgz3a"
      },
      "source": [
        "We've instnatiated the advanced CNN model ('AdvancedCNNClassifier'). The loss function is defined as cross-entropy, and the optimizer is set to Adam witha learning rate of 0.001\n",
        "\n",
        "The training loop is similar to the augmented training dataset ('train_loader_with_augmentation). The loop then prints the training loss and accuracy for each epoch."
      ]
    },
    {
      "cell_type": "markdown",
      "metadata": {
        "id": "5OLz6SS0ioIw"
      },
      "source": [
        "Incorporating both an advanced architecture and data augmentation aligns with the goal of building a more powerful and robust model, capable of accurately classifying handwritten digits while being less sensitive to variations and noise in the input data."
      ]
    },
    {
      "cell_type": "markdown",
      "metadata": {
        "id": "ITQrcByYWPpM"
      },
      "source": [
        "#Conclusion"
      ]
    },
    {
      "cell_type": "markdown",
      "metadata": {
        "id": "wMoZ5lxoWVRj"
      },
      "source": [
        "Congratulations! You've successfully built and trained a Convolutional Neural Network for classifying handwritten digits using PyTorch. In this tutorial, we covered setting up the environment, defining the CNN architecture, training the model, and evaluating its performance.\n",
        "\n",
        "Feel free to experiment with different architectures, hyperparameters, and techniques to further improve the model's accuracy."
      ]
    }
  ],
  "metadata": {
    "colab": {
      "provenance": [],
      "include_colab_link": true
    },
    "kernelspec": {
      "display_name": "Python 3",
      "name": "python3"
    },
    "language_info": {
      "name": "python"
    }
  },
  "nbformat": 4,
  "nbformat_minor": 0
}