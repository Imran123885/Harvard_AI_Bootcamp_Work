{
  "nbformat": 4,
  "nbformat_minor": 0,
  "metadata": {
    "colab": {
      "provenance": [],
      "include_colab_link": true
    },
    "kernelspec": {
      "name": "python3",
      "display_name": "Python 3"
    },
    "language_info": {
      "name": "python"
    }
  },
  "cells": [
    {
      "cell_type": "markdown",
      "metadata": {
        "id": "view-in-github",
        "colab_type": "text"
      },
      "source": [
        "<a href=\"https://colab.research.google.com/github/Imran123885/Harvard_AI_Bootcamp_Work/blob/main/imran_mirza_d1h1vc_hyperparameters_student.ipynb\" target=\"_parent\"><img src=\"https://colab.research.google.com/assets/colab-badge.svg\" alt=\"Open In Colab\"/></a>"
      ]
    },
    {
      "cell_type": "markdown",
      "source": [
        "## Hyperparameters"
      ],
      "metadata": {
        "id": "8PyQsTzU3sh4"
      }
    },
    {
      "cell_type": "markdown",
      "source": [
        "Harvard AI Bootcamp\n",
        "\n",
        "Read: https://towardsdatascience.com/parameters-and-hyperparameters-aa609601a9ac\n",
        "\n",
        "\n",
        "Hyperparameter tuning is a massively important area of ML research and engineering, and it comprises a lot of what ML engineers and researchers do daily.\n",
        "\n",
        "In this homework, we'll introduce some of the most fundamental hyperparameters that are commonly used in ML and go over Grid Search and Random Search, two commonly used hyperparameter tuning algorithms.\n"
      ],
      "metadata": {
        "id": "gWaPQqem3sh4"
      }
    },
    {
      "cell_type": "markdown",
      "source": [
        "## Make a copy of this notebook! Editing directly will not be saved."
      ],
      "metadata": {
        "id": "W1XWoJE89M-f"
      }
    },
    {
      "cell_type": "code",
      "execution_count": null,
      "metadata": {
        "id": "XNUVvXLO3sh4"
      },
      "outputs": [],
      "source": [
        "import torch\n",
        "import torchvision\n",
        "import torchvision.transforms as transforms\n",
        "from torch.utils.data import DataLoader\n",
        "import torch.nn as nn\n",
        "import torch.optim as optim\n",
        "import itertools\n",
        "import random\n",
        "\n",
        "import numpy as np\n",
        "import matplotlib.pyplot as plt"
      ]
    },
    {
      "cell_type": "code",
      "source": [
        "#HYPERPARAMETERS\n",
        "\n",
        "#TRAINING HYPERPARAMETERS\n",
        "BATCH_SIZE = 10 #choose between 1 and 10\n",
        "NUM_EPOCHS = 5 #choose between 1 and 5\n",
        "LR = 0.001 #choose between 0.0001 to 0.1\n",
        "OPTIM_ALG = \"adam\" #choose from ['sgd', 'adam']\n",
        "\n",
        "#ARCHITECTURE HYPERPARAMETERS\n",
        "NUM_NEURONS = 100 #anything!\n",
        "ACTIVATION_FN = \"gelu\" #choose from ['relu', 'sigmoid', 'gelu', 'tanh']\n",
        "\n",
        "activation_fns = {'relu': nn.ReLU(), 'sigmoid': nn.Sigmoid(), 'gelu': nn.GELU(), 'tanh': nn.Tanh()}"
      ],
      "metadata": {
        "id": "bwu-tK9g3sh4"
      },
      "execution_count": null,
      "outputs": []
    },
    {
      "cell_type": "code",
      "source": [
        "#Load the Fashion MNIST dataset, a dataset of grayscaled articles of clothing\n",
        "\n",
        "#transform is applied to all the datapoints in our dataset and commonly used to normalize/preprocess data. here, all we do is convert to tensor\n",
        "transform = transforms.Compose([transforms.ToTensor()])\n",
        "\n",
        "trainset = torchvision.datasets.FashionMNIST(root='./data', train=True, download=True, transform=transform)\n",
        "trainloader = DataLoader(trainset, batch_size=BATCH_SIZE, shuffle=True)\n",
        "\n",
        "testset = torchvision.datasets.FashionMNIST(root='./data', train=False, download=True, transform=transform)\n",
        "testloader = DataLoader(testset, batch_size=BATCH_SIZE, shuffle=False)\n",
        "\n"
      ],
      "metadata": {
        "id": "3AjwAWlX3sh4"
      },
      "execution_count": null,
      "outputs": []
    },
    {
      "cell_type": "code",
      "source": [
        "images, labels = next(iter(testloader))\n",
        "# Fashion MNIST labels\n",
        "classes = ('T-shirt/top', 'Trouser', 'Pullover', 'Dress', 'Coat',\n",
        "           'Sandal', 'Shirt', 'Sneaker', 'Bag', 'Ankle boot')\n",
        "\n",
        "# Function to show an image\n",
        "def imshow(img):\n",
        "    img = img / 2 + 0.5     # unnormalize\n",
        "    npimg = img.numpy()\n",
        "    plt.imshow(np.transpose(npimg, (1, 2, 0)))\n",
        "    plt.show()\n",
        "    print(img.shape)\n",
        "\n",
        "\n",
        "# Show images\n",
        "imshow(torchvision.utils.make_grid(images))\n",
        "# Print labels\n",
        "print('      \\t'.join(f'{classes[labels[j]]}' for j in range(BATCH_SIZE)))"
      ],
      "metadata": {
        "colab": {
          "base_uri": "https://localhost:8080/",
          "height": 244
        },
        "outputId": "67db066f-f0a8-49b6-96ec-dfc011def60e",
        "id": "XoPKWeQA3sh4"
      },
      "execution_count": null,
      "outputs": [
        {
          "output_type": "stream",
          "name": "stdout",
          "text": [
            "tensor([9, 2, 1, 1, 6, 1, 4, 6, 5, 7])\n"
          ]
        },
        {
          "output_type": "display_data",
          "data": {
            "text/plain": [
              "<Figure size 640x480 with 1 Axes>"
            ],
            "image/png": "[encoded data removed]"
          },
          "metadata": {}
        },
        {
          "output_type": "stream",
          "name": "stdout",
          "text": [
            "torch.Size([3, 62, 242])\n",
            "Ankle boot      \tPullover      \tTrouser      \tTrouser      \tShirt      \tTrouser      \tCoat      \tShirt      \tSandal      \tSneaker\n"
          ]
        }
      ]
    },
    {
      "cell_type": "code",
      "source": [
        "INPUT_SHAPE = [3,62,242]\n",
        "\n",
        "OUTPUT_SHAPE = len(labels)\n",
        "\n",
        "\n",
        "def create_net(num_neurons, activation_fn):\n",
        "  #TODO:\n",
        "  class Net(nn.Module):\n",
        "      def __init__(self):\n",
        "        super().__init__()\n",
        "        input_shape = 1\n",
        "        for i in range(len(INPUT_SHAPE)):\n",
        "          input_shape = input_shape*INPUT_SHAPE[i]\n",
        "        self.layer1 = nn.Linear(input_shape, num_neurons)\n",
        "        self.activation = activation_fn\n",
        "        self.layer2 = nn.Linear(num_neurons, OUTPUT_SHAPE)\n",
        "      def forward(self, x):\n",
        "        x = self.layer1(x)\n",
        "        x = self.activation(x)\n",
        "        x = self.layer2(x)\n",
        "  return Net()\n",
        "net = create_net(NUM_NEURONS, activation_fns[ACTIVATION_FN])"
      ],
      "metadata": {
        "id": "uPk41bPf3sh4"
      },
      "execution_count": null,
      "outputs": []
    },
    {
      "cell_type": "code",
      "source": [
        "#Define a Loss function and optimizer\n",
        "criterion = nn.CrossEntropyLoss()\n",
        "\n",
        "if OPTIM_ALG == \"sgd\":\n",
        "  optimizer = optim.SGD(net.parameters(), lr=LR)\n",
        "elif OPTIM_ALG == \"adam\":\n",
        "  optimizer = optim.Adam(net.parameters(), lr = LR)"
      ],
      "metadata": {
        "id": "UX9LJeg63sh4"
      },
      "execution_count": null,
      "outputs": []
    },
    {
      "cell_type": "code",
      "source": [
        "device = torch.device(\"cuda\") if torch.cuda.is_available() else torch.device(\"cpu\")\n",
        "print(\"Device\", device)\n",
        "\n",
        "def train_net(trainloader, criterion, optimizer, net, num_epochs):\n",
        "  #TODO: implement a function that trains a neural network given the above inputs and returns the trained net\n",
        "  for epoch in range(num_epochs):\n",
        "    running_loss = 0.0\n",
        "    for i, data in enumerate(trainloader, 0):\n",
        "        inputs, labels = data\n",
        "        inputs, labels = inputs.to(device), labels.to(device)\n",
        "\n",
        "        optimizer.zero_grad()\n",
        "\n",
        "        outputs = net(inputs)\n",
        "        loss = criterion(outputs, labels)\n",
        "        loss.backward()\n",
        "        optimizer.step()\n",
        "\n",
        "        running_loss += loss.item()\n",
        "        if i % 100 == 99:  # Print every 100 mini-batches\n",
        "            print(f\"Epoch {epoch + 1}, Batch {i + 1}: Loss {running_loss / 100:.3f}\")\n",
        "            running_loss = 0.0\n",
        "\n",
        "    print('Finished Training')\n",
        "    return net\n",
        "\n",
        "net = train_net(trainloader, criterion, optimizer, net, NUM_EPOCHS)"
      ],
      "metadata": {
        "id": "K7S79fIF3sh5",
        "colab": {
          "base_uri": "https://localhost:8080/",
          "height": 349
        },
        "outputId": "853fe893-8763-4347-e4f6-64b7b98c1d5c"
      },
      "execution_count": null,
      "outputs": [
        {
          "output_type": "stream",
          "name": "stdout",
          "text": [
            "Device cpu\n"
          ]
        },
        {
          "output_type": "error",
          "ename": "TypeError",
          "evalue": "ignored",
          "traceback": [
            "\u001b[0;31m---------------------------------------------------------------------------\u001b[0m",
            "\u001b[0;31mTypeError\u001b[0m                                 Traceback (most recent call last)",
            "\u001b[0;32m<ipython-input-46-3d94d35136dc>\u001b[0m in \u001b[0;36m<cell line: 27>\u001b[0;34m()\u001b[0m\n\u001b[1;32m     25\u001b[0m     \u001b[0;32mreturn\u001b[0m \u001b[0mnet\u001b[0m\u001b[0;34m\u001b[0m\u001b[0;34m\u001b[0m\u001b[0m\n\u001b[1;32m     26\u001b[0m \u001b[0;34m\u001b[0m\u001b[0m\n\u001b[0;32m---> 27\u001b[0;31m \u001b[0mnet\u001b[0m \u001b[0;34m=\u001b[0m \u001b[0mtrain_net\u001b[0m\u001b[0;34m(\u001b[0m\u001b[0mtrainloader\u001b[0m\u001b[0;34m,\u001b[0m \u001b[0mcriterion\u001b[0m\u001b[0;34m,\u001b[0m \u001b[0moptimizer\u001b[0m\u001b[0;34m,\u001b[0m \u001b[0mnet\u001b[0m\u001b[0;34m,\u001b[0m \u001b[0mNUM_EPOCHS\u001b[0m\u001b[0;34m)\u001b[0m\u001b[0;34m\u001b[0m\u001b[0;34m\u001b[0m\u001b[0m\n\u001b[0m",
            "\u001b[0;32m<ipython-input-46-3d94d35136dc>\u001b[0m in \u001b[0;36mtrain_net\u001b[0;34m(trainloader, criterion, optimizer, net, num_epochs)\u001b[0m\n\u001b[1;32m     12\u001b[0m         \u001b[0moptimizer\u001b[0m\u001b[0;34m.\u001b[0m\u001b[0mzero_grad\u001b[0m\u001b[0;34m(\u001b[0m\u001b[0;34m)\u001b[0m\u001b[0;34m\u001b[0m\u001b[0;34m\u001b[0m\u001b[0m\n\u001b[1;32m     13\u001b[0m \u001b[0;34m\u001b[0m\u001b[0m\n\u001b[0;32m---> 14\u001b[0;31m         \u001b[0moutputs\u001b[0m \u001b[0;34m=\u001b[0m \u001b[0mnet\u001b[0m\u001b[0;34m(\u001b[0m\u001b[0minputs\u001b[0m\u001b[0;34m)\u001b[0m\u001b[0;34m\u001b[0m\u001b[0;34m\u001b[0m\u001b[0m\n\u001b[0m\u001b[1;32m     15\u001b[0m         \u001b[0mloss\u001b[0m \u001b[0;34m=\u001b[0m \u001b[0mcriterion\u001b[0m\u001b[0;34m(\u001b[0m\u001b[0moutputs\u001b[0m\u001b[0;34m,\u001b[0m \u001b[0mlabels\u001b[0m\u001b[0;34m)\u001b[0m\u001b[0;34m\u001b[0m\u001b[0;34m\u001b[0m\u001b[0m\n\u001b[1;32m     16\u001b[0m         \u001b[0mloss\u001b[0m\u001b[0;34m.\u001b[0m\u001b[0mbackward\u001b[0m\u001b[0;34m(\u001b[0m\u001b[0;34m)\u001b[0m\u001b[0;34m\u001b[0m\u001b[0;34m\u001b[0m\u001b[0m\n",
            "\u001b[0;31mTypeError\u001b[0m: 'NoneType' object is not callable"
          ]
        }
      ]
    },
    {
      "cell_type": "code",
      "source": [
        "# Test the network on the test data\n",
        "def test_acc(net, testloader):\n",
        "  #TODO: return the accuracy of the model on all the images in the testdataset\n",
        "  pass\n",
        "\n",
        "print(f'Accuracy of the network on the 10000 test images: {test_acc(net, testloader)}%')"
      ],
      "metadata": {
        "id": "IONki8p83sh5",
        "colab": {
          "base_uri": "https://localhost:8080/"
        },
        "outputId": "e42b350d-508d-479a-bb41-7bacd82447ef"
      },
      "execution_count": null,
      "outputs": [
        {
          "output_type": "stream",
          "name": "stdout",
          "text": [
            "Accuracy of the network on the 10000 test images: None%\n"
          ]
        }
      ]
    },
    {
      "cell_type": "markdown",
      "source": [
        "## Grid Search\n",
        "\n",
        "Read about grid search and random search here: https://neptune.ai/blog/hyperparameter-tuning-in-python-complete-guide\n",
        "\n",
        "They're both pretty simple methods. For grid search, itertools.product will be helpful and for random search, random.choice will be helpful."
      ],
      "metadata": {
        "id": "EhysB6SM3sh5"
      }
    },
    {
      "cell_type": "code",
      "source": [
        "from torch.utils.data import RandomSampler, DataLoader, Subset\n",
        "\n",
        "#We'll use a subset of the training/testing data to make things run faster\n",
        "search_trainset = Subset(trainset, np.arange(1000))\n",
        "search_testset = Subset(testset, np.arange(1000))\n",
        "\n",
        "# Define the hyperparameter space\n",
        "batch_sizes = [1, 5]\n",
        "num_epochs = [1, 5]\n",
        "learning_rates = [0.001, 0.01]\n",
        "nums_neurons = [100, 1000]\n",
        "activation_fns = {'relu': nn.ReLU(), 'gelu': nn.GELU()}\n",
        "optim_alg = \"adam\" #we'll just only use adam here because it will cut runtime in half and adam is just plainly superior than sgd"
      ],
      "metadata": {
        "id": "_6ucb_cR3sh5"
      },
      "execution_count": null,
      "outputs": []
    },
    {
      "cell_type": "code",
      "source": [
        "#TODO Implement gridsearch\n",
        "best_accuracy = 0\n",
        "best_params = {}"
      ],
      "metadata": {
        "id": "0lYAJRTIvm3m"
      },
      "execution_count": null,
      "outputs": []
    },
    {
      "cell_type": "markdown",
      "source": [
        "## Random Search\n",
        "\n"
      ],
      "metadata": {
        "id": "YinzrCcm3sh5"
      }
    },
    {
      "cell_type": "code",
      "source": [
        "#TODO implement random search\n",
        "best_accuracy = 0\n",
        "best_params = {}\n",
        "num_iterations = 16  # Number of random combinations to try"
      ],
      "metadata": {
        "id": "vYTNY4kh3sh5"
      },
      "execution_count": null,
      "outputs": []
    },
    {
      "cell_type": "code",
      "source": [],
      "metadata": {
        "id": "beETF3bQ3sh5"
      },
      "execution_count": null,
      "outputs": []
    }
  ]
}